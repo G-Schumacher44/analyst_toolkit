{
 "cells": [
  {
   "cell_type": "markdown",
   "id": "5b10510a",
   "metadata": {},
   "source": [
    "# 🧪 Full Pipeline Execution (Notebook Mode)\n",
    "\n",
    "This notebook demonstrates the full pipeline execution using the master controller script `run_toolkit_pipeline.py`.\n",
    "\n",
    "- Controlled via: `config/run_toolkit_config.yaml`\n",
    "- Executes all pipeline modules in sequence (M01–M10)\n",
    "- Outputs: Dashboards, reports, plots, and the final certified dataset\n",
    "- ✅ Set `notebook: true` in the YAML to enable inline dashboards\n",
    "\n",
    ">📂 Final outputs are exported to the `exports/` and `data/processed/` directories.\n",
    "\n",
    "---\n",
    "\n",
    "<details>\n",
    "<summary><strong>📎 Notes & Use Cases</strong></summary>\n",
    "\n",
    "**🧭 Notes**\n",
    "- Fully modular pipeline execution from raw to certified clean data\n",
    "- Configurable behavior using a single YAML file\n",
    "- Can be executed interactively (with displays) or headlessly (silent mode)\n",
    "\n",
    "**💼 Use Cases**\n",
    "- End-to-end QA audits for new or synthetic datasets\n",
    "- Validating preprocessing logic during exploratory workflows\n",
    "- Certifying pipeline output before downstream modeling\n",
    "- Showcasing toolkit capabilities in interviews or portfolio reviews\n",
    "\n",
    "</details>\n",
    "\n",
    "<details>\n",
    "<summary><strong>🔁 Alternate Modes</strong></summary>\n",
    "\n",
    "- Set `notebook: false` in the YAML to run this notebook silently (ideal for automation or CI).\n",
    "- Run the pipeline as a CLI script outside notebooks with:\n",
    "\n",
    "```bash\n",
    "python run_toolkit_pipeline.py --config config/run_toolkit_config.yaml\n"
   ]
  },
  {
   "cell_type": "code",
   "execution_count": null,
   "id": "e9632c00",
   "metadata": {},
   "outputs": [],
   "source": [
    "from analyst_toolkit.run_toolkit_pipeline import run_full_pipeline\n",
    "\n",
    "final_df = run_full_pipeline(config_path=\"config/run_toolkit_config.yaml\")"
   ]
  },
  {
   "cell_type": "markdown",
   "id": "ea2ede4d",
   "metadata": {},
   "source": [
    "## 🛠️ Next Steps\n",
    "\n",
    "This notebook demonstrates the full analyst pipeline using notebook mode. The following enhancements are planned or encouraged for production workflows:\n",
    "\n",
    "#### ✅ CLI and Automation\n",
    "- Use the CLI version for scheduled or automated runs:\n",
    "  \n",
    "  ```bash\n",
    "  python run_toolkit_pipeline.py --config config/run_toolkit_config.yaml\n",
    "  ```\n",
    "\n",
    "- Integrate into GitHub Actions or cron jobs for continuous data QA\n",
    "- Swap YAML configs to support different datasets or audit targets\n",
    "\n",
    "#### 🚀 Planned Iterations\n",
    "- Add dynamic changelog to fallow data end to end.\n",
    "- Extend to namespace, and add addtional modules;\n",
    "  - ML Module Evaluation Suite\n",
    "  - Visual EDA Suite\n",
    "- Optional integration with cloud storage (GCS / S3) for inputs and outputs\n",
    "- Create a streamlined CLI onboarding script (e.g., init_pipeline.py) to scaffold configs\n",
    "\n",
    "#### 📦 Packaging Notes\n",
    "- The toolkit is TOML-packaged and installable as a local Python module\n",
    "- Follows modular design to support interactive, notebook, and script-based workflows\n"
   ]
  }
 ],
 "metadata": {
  "kernelspec": {
   "display_name": "analyst_toolkit_env",
   "language": "python",
   "name": "python3"
  },
  "language_info": {
   "codemirror_mode": {
    "name": "ipython",
    "version": 3
   },
   "file_extension": ".py",
   "mimetype": "text/x-python",
   "name": "python",
   "nbconvert_exporter": "python",
   "pygments_lexer": "ipython3",
   "version": "3.12.11"
  }
 },
 "nbformat": 4,
 "nbformat_minor": 5
}
